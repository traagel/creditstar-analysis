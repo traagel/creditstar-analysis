{
 "cells": [
  {
   "cell_type": "code",
   "execution_count": 2,
   "id": "initial_id",
   "metadata": {
    "collapsed": true,
    "ExecuteTime": {
     "end_time": "2023-09-18T02:13:16.833694931Z",
     "start_time": "2023-09-18T02:13:15.489664292Z"
    }
   },
   "outputs": [
    {
     "name": "stderr",
     "output_type": "stream",
     "text": [
      "/usr/lib/python3/dist-packages/scipy/__init__.py:146: UserWarning: A NumPy version >=1.17.3 and <1.25.0 is required for this version of SciPy (detected version 1.26.0\n",
      "  warnings.warn(f\"A NumPy version >={np_minversion} and <{np_maxversion}\"\n"
     ]
    }
   ],
   "source": [
    "import pandas as pd\n",
    "from sklearn.linear_model import LogisticRegression\n",
    "from sklearn.model_selection import train_test_split, cross_val_score, StratifiedKFold\n",
    "from sklearn.metrics import accuracy_score, classification_report, confusion_matrix, roc_curve, roc_auc_score\n",
    "import matplotlib.pyplot as plt"
   ]
  },
  {
   "cell_type": "code",
   "execution_count": 3,
   "outputs": [],
   "source": [
    "loan_df = pd.read_csv('loan.csv')\n",
    "payment_df = pd.read_csv('payment.csv')\n",
    "user_df = pd.read_csv('user.csv')"
   ],
   "metadata": {
    "collapsed": false,
    "ExecuteTime": {
     "end_time": "2023-09-18T02:13:16.833982482Z",
     "start_time": "2023-09-18T02:13:16.284572585Z"
    }
   },
   "id": "d4878af25a329ba3"
  },
  {
   "cell_type": "code",
   "execution_count": 4,
   "outputs": [
    {
     "name": "stderr",
     "output_type": "stream",
     "text": [
      "/tmp/ipykernel_154905/377295015.py:3: SettingWithCopyWarning: \n",
      "A value is trying to be set on a copy of a slice from a DataFrame.\n",
      "Try using .loc[row_indexer,col_indexer] = value instead\n",
      "\n",
      "See the caveats in the documentation: https://pandas.pydata.org/pandas-docs/stable/user_guide/indexing.html#returning-a-view-versus-a-copy\n",
      "  filtered_loan_df['status_encoded'] = filtered_loan_df['status'].map({'paid': 1, 'overdue': 0})\n"
     ]
    }
   ],
   "source": [
    "# Filter and encode loan status\n",
    "filtered_loan_df = loan_df[loan_df['status'].isin(['paid', 'overdue'])]\n",
    "filtered_loan_df['status_encoded'] = filtered_loan_df['status'].map({'paid': 1, 'overdue': 0})\n",
    "\n",
    "# Merge datasets\n",
    "merged_df = pd.merge(filtered_loan_df, user_df, left_on='client_id', right_on='id', suffixes=('_loan', '_user'))\n",
    "final_df = pd.merge(merged_df, payment_df, left_on='id_loan', right_on='loan_id', how='left')\n",
    "\n",
    "# Calculate age from birth_date\n",
    "final_df['birth_date'] = pd.to_datetime(final_df['birth_date'])\n",
    "current_year = pd.Timestamp.now().year\n",
    "final_df['age'] = current_year - final_df['birth_date'].dt.year\n",
    "final_df.drop('birth_date', axis=1, inplace=True)\n",
    "\n",
    "# Handle missing values\n",
    "final_df['amount_y'].fillna(0, inplace=True)\n",
    "final_df['principle'].fillna(0, inplace=True)\n",
    "final_df['interest'].fillna(0, inplace=True)\n",
    "final_df['status_y'].fillna('no_payment', inplace=True)"
   ],
   "metadata": {
    "collapsed": false,
    "ExecuteTime": {
     "end_time": "2023-09-18T02:13:16.834306154Z",
     "start_time": "2023-09-18T02:13:16.533704778Z"
    }
   },
   "id": "f0a5c7f55631de78"
  },
  {
   "cell_type": "code",
   "execution_count": 5,
   "outputs": [],
   "source": [
    "# One-hot encode categorical features\n",
    "final_df_encoded = pd.get_dummies(final_df, columns=['status_y'])\n",
    "\n",
    "# Define features and target\n",
    "features = ['amount_x', 'duration', 'age', 'principle', 'interest'] + [col for col in final_df_encoded if 'status_y_' in col]\n",
    "X = final_df_encoded[features]\n",
    "y = final_df_encoded['status_encoded']\n",
    "\n",
    "# Split data into training and test sets\n",
    "X_train, X_test, y_train, y_test = train_test_split(X, y, test_size=0.2, random_state=42)\n"
   ],
   "metadata": {
    "collapsed": false,
    "ExecuteTime": {
     "end_time": "2023-09-18T02:13:16.834487655Z",
     "start_time": "2023-09-18T02:13:16.633444389Z"
    }
   },
   "id": "4ba51602c9a9adc9"
  },
  {
   "cell_type": "code",
   "execution_count": 6,
   "outputs": [
    {
     "data": {
      "text/plain": "LogisticRegression(max_iter=1000, random_state=42)",
      "text/html": "<style>#sk-container-id-1 {color: black;}#sk-container-id-1 pre{padding: 0;}#sk-container-id-1 div.sk-toggleable {background-color: white;}#sk-container-id-1 label.sk-toggleable__label {cursor: pointer;display: block;width: 100%;margin-bottom: 0;padding: 0.3em;box-sizing: border-box;text-align: center;}#sk-container-id-1 label.sk-toggleable__label-arrow:before {content: \"▸\";float: left;margin-right: 0.25em;color: #696969;}#sk-container-id-1 label.sk-toggleable__label-arrow:hover:before {color: black;}#sk-container-id-1 div.sk-estimator:hover label.sk-toggleable__label-arrow:before {color: black;}#sk-container-id-1 div.sk-toggleable__content {max-height: 0;max-width: 0;overflow: hidden;text-align: left;background-color: #f0f8ff;}#sk-container-id-1 div.sk-toggleable__content pre {margin: 0.2em;color: black;border-radius: 0.25em;background-color: #f0f8ff;}#sk-container-id-1 input.sk-toggleable__control:checked~div.sk-toggleable__content {max-height: 200px;max-width: 100%;overflow: auto;}#sk-container-id-1 input.sk-toggleable__control:checked~label.sk-toggleable__label-arrow:before {content: \"▾\";}#sk-container-id-1 div.sk-estimator input.sk-toggleable__control:checked~label.sk-toggleable__label {background-color: #d4ebff;}#sk-container-id-1 div.sk-label input.sk-toggleable__control:checked~label.sk-toggleable__label {background-color: #d4ebff;}#sk-container-id-1 input.sk-hidden--visually {border: 0;clip: rect(1px 1px 1px 1px);clip: rect(1px, 1px, 1px, 1px);height: 1px;margin: -1px;overflow: hidden;padding: 0;position: absolute;width: 1px;}#sk-container-id-1 div.sk-estimator {font-family: monospace;background-color: #f0f8ff;border: 1px dotted black;border-radius: 0.25em;box-sizing: border-box;margin-bottom: 0.5em;}#sk-container-id-1 div.sk-estimator:hover {background-color: #d4ebff;}#sk-container-id-1 div.sk-parallel-item::after {content: \"\";width: 100%;border-bottom: 1px solid gray;flex-grow: 1;}#sk-container-id-1 div.sk-label:hover label.sk-toggleable__label {background-color: #d4ebff;}#sk-container-id-1 div.sk-serial::before {content: \"\";position: absolute;border-left: 1px solid gray;box-sizing: border-box;top: 0;bottom: 0;left: 50%;z-index: 0;}#sk-container-id-1 div.sk-serial {display: flex;flex-direction: column;align-items: center;background-color: white;padding-right: 0.2em;padding-left: 0.2em;position: relative;}#sk-container-id-1 div.sk-item {position: relative;z-index: 1;}#sk-container-id-1 div.sk-parallel {display: flex;align-items: stretch;justify-content: center;background-color: white;position: relative;}#sk-container-id-1 div.sk-item::before, #sk-container-id-1 div.sk-parallel-item::before {content: \"\";position: absolute;border-left: 1px solid gray;box-sizing: border-box;top: 0;bottom: 0;left: 50%;z-index: -1;}#sk-container-id-1 div.sk-parallel-item {display: flex;flex-direction: column;z-index: 1;position: relative;background-color: white;}#sk-container-id-1 div.sk-parallel-item:first-child::after {align-self: flex-end;width: 50%;}#sk-container-id-1 div.sk-parallel-item:last-child::after {align-self: flex-start;width: 50%;}#sk-container-id-1 div.sk-parallel-item:only-child::after {width: 0;}#sk-container-id-1 div.sk-dashed-wrapped {border: 1px dashed gray;margin: 0 0.4em 0.5em 0.4em;box-sizing: border-box;padding-bottom: 0.4em;background-color: white;}#sk-container-id-1 div.sk-label label {font-family: monospace;font-weight: bold;display: inline-block;line-height: 1.2em;}#sk-container-id-1 div.sk-label-container {text-align: center;}#sk-container-id-1 div.sk-container {/* jupyter's `normalize.less` sets `[hidden] { display: none; }` but bootstrap.min.css set `[hidden] { display: none !important; }` so we also need the `!important` here to be able to override the default hidden behavior on the sphinx rendered scikit-learn.org. See: https://github.com/scikit-learn/scikit-learn/issues/21755 */display: inline-block !important;position: relative;}#sk-container-id-1 div.sk-text-repr-fallback {display: none;}</style><div id=\"sk-container-id-1\" class=\"sk-top-container\"><div class=\"sk-text-repr-fallback\"><pre>LogisticRegression(max_iter=1000, random_state=42)</pre><b>In a Jupyter environment, please rerun this cell to show the HTML representation or trust the notebook. <br />On GitHub, the HTML representation is unable to render, please try loading this page with nbviewer.org.</b></div><div class=\"sk-container\" hidden><div class=\"sk-item\"><div class=\"sk-estimator sk-toggleable\"><input class=\"sk-toggleable__control sk-hidden--visually\" id=\"sk-estimator-id-1\" type=\"checkbox\" checked><label for=\"sk-estimator-id-1\" class=\"sk-toggleable__label sk-toggleable__label-arrow\">LogisticRegression</label><div class=\"sk-toggleable__content\"><pre>LogisticRegression(max_iter=1000, random_state=42)</pre></div></div></div></div></div>"
     },
     "execution_count": 6,
     "metadata": {},
     "output_type": "execute_result"
    }
   ],
   "source": [
    "# Train a logistic regression model\n",
    "log_reg = LogisticRegression(max_iter=1000, random_state=42)\n",
    "log_reg.fit(X_train, y_train)"
   ],
   "metadata": {
    "collapsed": false,
    "ExecuteTime": {
     "end_time": "2023-09-18T02:13:18.013232989Z",
     "start_time": "2023-09-18T02:13:16.669664373Z"
    }
   },
   "id": "cf17250275834c78"
  },
  {
   "cell_type": "code",
   "execution_count": 7,
   "outputs": [],
   "source": [
    "# Predict and evaluate on test set\n",
    "y_pred = log_reg.predict(X_test)\n",
    "accuracy = accuracy_score(y_test, y_pred)"
   ],
   "metadata": {
    "collapsed": false,
    "ExecuteTime": {
     "end_time": "2023-09-18T02:13:18.031082631Z",
     "start_time": "2023-09-18T02:13:18.012682887Z"
    }
   },
   "id": "2bacb38cfe308732"
  },
  {
   "cell_type": "code",
   "execution_count": 8,
   "outputs": [
    {
     "name": "stdout",
     "output_type": "stream",
     "text": [
      "Accuracy: 0.9995849884389637\n",
      "              precision    recall  f1-score   support\n",
      "\n",
      "           0       1.00      1.00      1.00      3529\n",
      "           1       1.00      1.00      1.00     13338\n",
      "\n",
      "    accuracy                           1.00     16867\n",
      "   macro avg       1.00      1.00      1.00     16867\n",
      "weighted avg       1.00      1.00      1.00     16867\n"
     ]
    }
   ],
   "source": [
    "print(f'Accuracy: {accuracy}')\n",
    "print(classification_report(y_test, y_pred))"
   ],
   "metadata": {
    "collapsed": false,
    "ExecuteTime": {
     "end_time": "2023-09-18T02:13:18.089387599Z",
     "start_time": "2023-09-18T02:13:18.027752904Z"
    }
   },
   "id": "7d686e8f44b1aea8"
  },
  {
   "cell_type": "code",
   "execution_count": 9,
   "outputs": [],
   "source": [
    "# Cross-validation\n",
    "strat_kfold = StratifiedKFold(n_splits=5, shuffle=True, random_state=42)\n",
    "cross_val_accuracies = cross_val_score(log_reg, X, y, cv=strat_kfold, scoring='accuracy')\n"
   ],
   "metadata": {
    "collapsed": false,
    "ExecuteTime": {
     "end_time": "2023-09-18T02:13:22.580784710Z",
     "start_time": "2023-09-18T02:13:18.079994351Z"
    }
   },
   "id": "1db48ad755d25bc0"
  },
  {
   "cell_type": "code",
   "execution_count": 10,
   "outputs": [
    {
     "name": "stdout",
     "output_type": "stream",
     "text": [
      "Cross-validation accuracies: [0.99964428 0.99964428 0.99922926 0.99940713 0.99940709]\n"
     ]
    }
   ],
   "source": [
    "print(f'Cross-validation accuracies: {cross_val_accuracies}')"
   ],
   "metadata": {
    "collapsed": false,
    "ExecuteTime": {
     "end_time": "2023-09-18T02:13:22.594264209Z",
     "start_time": "2023-09-18T02:13:22.580674479Z"
    }
   },
   "id": "3b42c68c2b1959d2"
  },
  {
   "cell_type": "code",
   "execution_count": 11,
   "outputs": [],
   "source": [
    "# ROC curve and AUC\n",
    "y_scores = log_reg.predict_proba(X_test)[:, 1]\n",
    "fpr, tpr, thresholds = roc_curve(y_test, y_scores)\n",
    "auc_score = roc_auc_score(y_test, y_scores)"
   ],
   "metadata": {
    "collapsed": false,
    "ExecuteTime": {
     "end_time": "2023-09-18T02:13:22.644566086Z",
     "start_time": "2023-09-18T02:13:22.592018468Z"
    }
   },
   "id": "47b035f1abd09553"
  },
  {
   "cell_type": "code",
   "execution_count": 12,
   "outputs": [
    {
     "data": {
      "text/plain": "<Figure size 640x480 with 1 Axes>",
      "image/png": "[encoded data removed]"
     },
     "metadata": {},
     "output_type": "display_data"
    }
   ],
   "source": [
    "# Plot ROC curve\n",
    "plt.plot(fpr, tpr, label=f\"AUC: {auc_score:.4f}\")\n",
    "plt.plot([0, 1], [0, 1], 'k--')\n",
    "plt.xlabel('False Positive Rate')\n",
    "plt.ylabel('True Positive Rate')\n",
    "plt.legend()\n",
    "plt.show()"
   ],
   "metadata": {
    "collapsed": false,
    "ExecuteTime": {
     "end_time": "2023-09-18T02:13:22.876651293Z",
     "start_time": "2023-09-18T02:13:22.624719626Z"
    }
   },
   "id": "8f8f9c8bd75c7dd9"
  },
  {
   "cell_type": "code",
   "execution_count": 13,
   "outputs": [
    {
     "name": "stdout",
     "output_type": "stream",
     "text": [
      "Percentage of loans predicted as approved: 79.37%\n"
     ]
    }
   ],
   "source": [
    "# Predict loan approval probabilities for the entire dataset\n",
    "all_predictions = log_reg.predict(X)\n",
    "\n",
    "# Calculate percentage of loans predicted as approved\n",
    "approved_percentage = (all_predictions.sum() / len(all_predictions)) * 100\n",
    "print(f\"Percentage of loans predicted as approved: {approved_percentage:.2f}%\")\n"
   ],
   "metadata": {
    "collapsed": false,
    "ExecuteTime": {
     "end_time": "2023-09-18T02:13:22.877160735Z",
     "start_time": "2023-09-18T02:13:22.808956467Z"
    }
   },
   "id": "1ec7a50c1405e82e"
  },
  {
   "cell_type": "code",
   "execution_count": 14,
   "outputs": [
    {
     "name": "stdout",
     "output_type": "stream",
     "text": [
      "Average loan amount for approved loans: 1052.63\n"
     ]
    }
   ],
   "source": [
    "# Calculate average loan amount for approved and rejected loans\n",
    "approved_df = final_df_encoded[all_predictions == 1]\n",
    "rejected_df = final_df_encoded[all_predictions == 0]\n",
    "print(f\"Average loan amount for approved loans: {approved_df['amount_x'].mean():.2f}\")"
   ],
   "metadata": {
    "collapsed": false,
    "ExecuteTime": {
     "end_time": "2023-09-18T02:13:22.877514577Z",
     "start_time": "2023-09-18T02:13:22.809532320Z"
    }
   },
   "id": "d2fbff6095f9c608"
  },
  {
   "cell_type": "code",
   "execution_count": 15,
   "outputs": [
    {
     "name": "stdout",
     "output_type": "stream",
     "text": [
      "Average loan amount for rejected loans: 1155.61\n"
     ]
    }
   ],
   "source": [
    "print(f\"Average loan amount for rejected loans: {rejected_df['amount_x'].mean():.2f}\")"
   ],
   "metadata": {
    "collapsed": false,
    "ExecuteTime": {
     "end_time": "2023-09-18T02:13:22.877824698Z",
     "start_time": "2023-09-18T02:13:22.816357223Z"
    }
   },
   "id": "179eeff464b0beaf"
  },
  {
   "cell_type": "code",
   "execution_count": 16,
   "outputs": [
    {
     "data": {
      "text/plain": "['model_v2.joblib']"
     },
     "execution_count": 16,
     "metadata": {},
     "output_type": "execute_result"
    }
   ],
   "source": [
    "# Save the model as model_v2\n",
    "from joblib import dump\n",
    "dump(log_reg, 'model_v2.joblib')"
   ],
   "metadata": {
    "collapsed": false,
    "ExecuteTime": {
     "end_time": "2023-09-18T02:13:22.878292041Z",
     "start_time": "2023-09-18T02:13:22.816716415Z"
    }
   },
   "id": "62a6e0672a3682bc"
  },
  {
   "cell_type": "code",
   "execution_count": 17,
   "outputs": [
    {
     "name": "stdout",
     "output_type": "stream",
     "text": [
      "Index(['amount_x', 'duration', 'age', 'principle', 'interest', 'status_y_late',\n",
      "       'status_y_no_payment', 'status_y_on_time'],\n",
      "      dtype='object')\n"
     ]
    }
   ],
   "source": [],
   "metadata": {
    "collapsed": false,
    "ExecuteTime": {
     "end_time": "2023-09-18T02:13:22.878635792Z",
     "start_time": "2023-09-18T02:13:22.817100717Z"
    }
   },
   "id": "6095c0839866b974"
  }
 ],
 "metadata": {
  "kernelspec": {
   "display_name": "Python 3",
   "language": "python",
   "name": "python3"
  },
  "language_info": {
   "codemirror_mode": {
    "name": "ipython",
    "version": 2
   },
   "file_extension": ".py",
   "mimetype": "text/x-python",
   "name": "python",
   "nbconvert_exporter": "python",
   "pygments_lexer": "ipython2",
   "version": "2.7.6"
  }
 },
 "nbformat": 4,
 "nbformat_minor": 5
}
